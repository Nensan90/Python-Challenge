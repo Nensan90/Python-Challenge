{
 "cells": [
  {
   "cell_type": "code",
   "execution_count": 1,
   "id": "9a45c884",
   "metadata": {},
   "outputs": [
    {
     "ename": "SyntaxError",
     "evalue": "EOL while scanning string literal (<ipython-input-1-1f67d5635d16>, line 3)",
     "output_type": "error",
     "traceback": [
      "\u001b[1;36m  File \u001b[1;32m\"<ipython-input-1-1f67d5635d16>\"\u001b[1;36m, line \u001b[1;32m3\u001b[0m\n\u001b[1;33m    df = pd.read_csv (r'budget_data.csv)\u001b[0m\n\u001b[1;37m                                         ^\u001b[0m\n\u001b[1;31mSyntaxError\u001b[0m\u001b[1;31m:\u001b[0m EOL while scanning string literal\n"
     ]
    }
   ],
   "source": [
    "import pandas as pd\n",
    "\n",
    "df = pd.read_csv (r'budget_data.csv) \n",
    "\n",
    "mean1 = df['Profit/Losses'].mean()\n",
    "max1 = df['Profit/Losses'].max()\n",
    "min1 = df['Profit/Losses'].min()\n",
    "count1 = df['Date'].count()\n",
    "\n",
    "groupby_sum1 = df.groupby(['Profit/Losses']).sum() \n",
    "groupby_count1 = df.groupby(['Date']).count()\n",
    "                  \n",
    "print df"
   ]
  },
  {
   "cell_type": "code",
   "execution_count": null,
   "id": "72cad403",
   "metadata": {},
   "outputs": [],
   "source": []
  },
  {
   "cell_type": "markdown",
   "id": "6942d23a",
   "metadata": {},
   "source": [
    "col_list = [\"1\", \"2\"]\n",
    "df = pd. read_csv(\"budget_data1\", usecols=col_list)\n",
    "print(df[\"Date\"])\n",
    "print(df[\"Profit/Losses\"])"
   ]
  },
  {
   "cell_type": "code",
   "execution_count": null,
   "id": "9b878d4d",
   "metadata": {},
   "outputs": [],
   "source": []
  },
  {
   "cell_type": "code",
   "execution_count": null,
   "id": "69571d9e",
   "metadata": {},
   "outputs": [],
   "source": []
  },
  {
   "cell_type": "code",
   "execution_count": null,
   "id": "78521b29",
   "metadata": {},
   "outputs": [],
   "source": []
  },
  {
   "cell_type": "code",
   "execution_count": null,
   "id": "3c5ef974",
   "metadata": {},
   "outputs": [],
   "source": []
  }
 ],
 "metadata": {
  "kernelspec": {
   "display_name": "Python 3",
   "language": "python",
   "name": "python3"
  },
  "language_info": {
   "codemirror_mode": {
    "name": "ipython",
    "version": 3
   },
   "file_extension": ".py",
   "mimetype": "text/x-python",
   "name": "python",
   "nbconvert_exporter": "python",
   "pygments_lexer": "ipython3",
   "version": "3.8.8"
  }
 },
 "nbformat": 4,
 "nbformat_minor": 5
}
