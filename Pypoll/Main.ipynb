{
 "cells": [
  {
   "cell_type": "code",
   "execution_count": 2,
   "id": "4fc5ed88",
   "metadata": {},
   "outputs": [
    {
     "ename": "SyntaxError",
     "evalue": "EOL while scanning string literal (<ipython-input-2-bd52123f571f>, line 3)",
     "output_type": "error",
     "traceback": [
      "\u001b[1;36m  File \u001b[1;32m\"<ipython-input-2-bd52123f571f>\"\u001b[1;36m, line \u001b[1;32m3\u001b[0m\n\u001b[1;33m    df = pd.read_csv (r'election_data.csv)\u001b[0m\n\u001b[1;37m                                           ^\u001b[0m\n\u001b[1;31mSyntaxError\u001b[0m\u001b[1;31m:\u001b[0m EOL while scanning string literal\n"
     ]
    }
   ],
   "source": [
    "import pandas as pd\n",
    "\n",
    "df = pd.read_csv (r'election_data.csv) \n",
    "\n",
    "candidate_list = df['Candidate'].count()                  \n",
    "max1 = df['Voter ID'].count()\n",
    "a_number = max1\n",
    "percentage = \"{:.0%}\".format(a_number)\n",
    "print(percentage)\n",
    "                  \n",
    "groupby_sum1 = df.groupby(['Voter ID']).sum() \n",
    "groupby_count1 = df.groupby(['Candidate']).count()\n",
    "                  \n",
    "winner = max1 = df['Voter ID'].count(0)     \n",
    "                  \n",
    "print df"
   ]
  },
  {
   "cell_type": "code",
   "execution_count": null,
   "id": "1990d953",
   "metadata": {},
   "outputs": [],
   "source": []
  }
 ],
 "metadata": {
  "kernelspec": {
   "display_name": "Python 3",
   "language": "python",
   "name": "python3"
  },
  "language_info": {
   "codemirror_mode": {
    "name": "ipython",
    "version": 3
   },
   "file_extension": ".py",
   "mimetype": "text/x-python",
   "name": "python",
   "nbconvert_exporter": "python",
   "pygments_lexer": "ipython3",
   "version": "3.8.8"
  }
 },
 "nbformat": 4,
 "nbformat_minor": 5
}
